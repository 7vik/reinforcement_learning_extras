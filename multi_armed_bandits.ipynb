{
  "nbformat": 4,
  "nbformat_minor": 0,
  "metadata": {
    "colab": {
      "name": "multi_armed_bandits.ipynb",
      "version": "0.3.2",
      "provenance": [],
      "collapsed_sections": []
    },
    "kernelspec": {
      "name": "python3",
      "display_name": "Python 3"
    }
  },
  "cells": [
    {
      "cell_type": "code",
      "metadata": {
        "id": "x4RrfYIxbTG3",
        "colab_type": "code",
        "colab": {}
      },
      "source": [
        "import numpy as np\n",
        "import matplotlib.pyplot as plt\n",
        "%matplotlib inline"
      ],
      "execution_count": 0,
      "outputs": []
    },
    {
      "cell_type": "code",
      "metadata": {
        "id": "YqMJpe8W1mlr",
        "colab_type": "code",
        "colab": {}
      },
      "source": [
        "k = 10    # number of bandits\n",
        "eps = 0.01    # greedy exploration probability\n",
        "steps = 1000\n",
        "optimism = 0.4"
      ],
      "execution_count": 0,
      "outputs": []
    },
    {
      "cell_type": "code",
      "metadata": {
        "id": "jc9eIXCK2VH1",
        "colab_type": "code",
        "colab": {}
      },
      "source": [
        "# initialize\n",
        "Q = np.zeros(k)   # the average reward\n",
        "Q += optimism\n",
        "N = np.zeros(k)   # number of occurences of a particular bandit"
      ],
      "execution_count": 0,
      "outputs": []
    },
    {
      "cell_type": "code",
      "metadata": {
        "id": "AnrCduAV7mXQ",
        "colab_type": "code",
        "colab": {
          "base_uri": "https://localhost:8080/",
          "height": 51
        },
        "outputId": "d913fbfb-3e5d-4909-e944-e50dd6d2f777"
      },
      "source": [
        "B = np.random.random(k)\n",
        "B *= 2\n",
        "B -= 1\n",
        "B"
      ],
      "execution_count": 90,
      "outputs": [
        {
          "output_type": "execute_result",
          "data": {
            "text/plain": [
              "array([-0.18134362, -0.00269297,  0.37315547,  0.72554497,  0.80805597,\n",
              "        0.92205504, -0.1262451 ,  0.27131062, -0.1713445 , -0.83678412])"
            ]
          },
          "metadata": {
            "tags": []
          },
          "execution_count": 90
        }
      ]
    },
    {
      "cell_type": "code",
      "metadata": {
        "id": "jVtjYcoP4FgV",
        "colab_type": "code",
        "colab": {}
      },
      "source": [
        "# outs a random number from the normal distribution of bandit index (0,9)\n",
        "def bandit(index):\n",
        "  return np.random.normal(B[index],1)"
      ],
      "execution_count": 0,
      "outputs": []
    },
    {
      "cell_type": "code",
      "metadata": {
        "id": "4I_-kldG2175",
        "colab_type": "code",
        "colab": {}
      },
      "source": [
        "total_reward = 0\n",
        "avg_reward = []\n",
        "\n",
        "for i in range(steps):\n",
        "  if np.random.random() > eps:\n",
        "    A = np.random.choice(np.flatnonzero(Q == Q.max()))\n",
        "  else:\n",
        "    A = np.random.choice([_ for _ in range(10)])\n",
        "  R = bandit(A)\n",
        "  N[A] += 1\n",
        "  Q[A] += (R - Q[A])/N[A]\n",
        "  total_reward += R\n",
        "  avg_reward.append(total_reward/(i+1))"
      ],
      "execution_count": 0,
      "outputs": []
    },
    {
      "cell_type": "code",
      "metadata": {
        "id": "JIzw-7lx8JgO",
        "colab_type": "code",
        "colab": {
          "base_uri": "https://localhost:8080/",
          "height": 295
        },
        "outputId": "45ad7f90-3101-4f6e-c9ab-58a5d2d3e56d"
      },
      "source": [
        "plt.plot(avg_reward)\n",
        "plt.xlabel('Steps')\n",
        "plt.ylabel('Average Reward')\n",
        "plt.title('e-greedy Performance')\n",
        "plt.grid(True)\n",
        "plt.show()"
      ],
      "execution_count": 93,
      "outputs": [
        {
          "output_type": "display_data",
          "data": {
            "image/png": "[encoded data removed]",
            "text/plain": [
              "<Figure size 432x288 with 1 Axes>"
            ]
          },
          "metadata": {
            "tags": []
          }
        }
      ]
    },
    {
      "cell_type": "code",
      "metadata": {
        "id": "Cu33L44hBoXY",
        "colab_type": "code",
        "colab": {}
      },
      "source": [
        ""
      ],
      "execution_count": 0,
      "outputs": []
    }
  ]
}
