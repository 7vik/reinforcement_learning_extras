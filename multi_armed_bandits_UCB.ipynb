{
  "nbformat": 4,
  "nbformat_minor": 0,
  "metadata": {
    "colab": {
      "name": "multi_armed_bandits_UCB.ipynb",
      "version": "0.3.2",
      "provenance": [],
      "collapsed_sections": []
    },
    "kernelspec": {
      "name": "python3",
      "display_name": "Python 3"
    }
  },
  "cells": [
    {
      "cell_type": "code",
      "metadata": {
        "id": "x4RrfYIxbTG3",
        "colab_type": "code",
        "colab": {}
      },
      "source": [
        "import numpy as np\n",
        "import matplotlib.pyplot as plt\n",
        "%matplotlib inline"
      ],
      "execution_count": 0,
      "outputs": []
    },
    {
      "cell_type": "code",
      "metadata": {
        "id": "YqMJpe8W1mlr",
        "colab_type": "code",
        "colab": {}
      },
      "source": [
        "k = 10    # number of bandits\n",
        "eps = 0.06   # greedy exploration probability\n",
        "steps = 1000\n",
        "optimism = 5"
      ],
      "execution_count": 0,
      "outputs": []
    },
    {
      "cell_type": "code",
      "metadata": {
        "id": "jc9eIXCK2VH1",
        "colab_type": "code",
        "colab": {}
      },
      "source": [
        "# initialize\n",
        "Q = np.zeros(k)   # the average reward\n",
        "Q += optimism\n",
        "N = np.zeros(k)   # number of occurences of a particular bandit"
      ],
      "execution_count": 0,
      "outputs": []
    },
    {
      "cell_type": "code",
      "metadata": {
        "id": "AnrCduAV7mXQ",
        "colab_type": "code",
        "colab": {
          "base_uri": "https://localhost:8080/",
          "height": 51
        },
        "outputId": "aed4c2cf-81fa-48ac-8ce5-c2c1cde4b5e8"
      },
      "source": [
        "B = np.random.random(k)\n",
        "B *= 2\n",
        "B -= 1\n",
        "B"
      ],
      "execution_count": 63,
      "outputs": [
        {
          "output_type": "execute_result",
          "data": {
            "text/plain": [
              "array([-0.79035614, -0.79781129,  0.76582515, -0.73592575,  0.33197089,\n",
              "       -0.94955265, -0.59740531,  0.61549616,  0.37034259,  0.04954963])"
            ]
          },
          "metadata": {
            "tags": []
          },
          "execution_count": 63
        }
      ]
    },
    {
      "cell_type": "code",
      "metadata": {
        "id": "jVtjYcoP4FgV",
        "colab_type": "code",
        "colab": {}
      },
      "source": [
        "# outs a random number from the normal distribution of bandit index (0,9)\n",
        "def bandit(index):\n",
        "  return np.random.normal(B[index],1)"
      ],
      "execution_count": 0,
      "outputs": []
    },
    {
      "cell_type": "code",
      "metadata": {
        "id": "4I_-kldG2175",
        "colab_type": "code",
        "colab": {}
      },
      "source": [
        "total_reward = 0\n",
        "avg_reward = []\n",
        "\n",
        "for i in range(steps):\n",
        "  A = np.argmax(Q+0.5*np.sqrt(np.log(i+1)/(N+0.0001)))\n",
        "  R = bandit(A)\n",
        "  N[A] += 1\n",
        "  Q[A] += (R - Q[A]) / N[A]\n",
        "  total_reward += R\n",
        "  avg_reward.append(total_reward/(i+1))"
      ],
      "execution_count": 0,
      "outputs": []
    },
    {
      "cell_type": "code",
      "metadata": {
        "id": "JIzw-7lx8JgO",
        "colab_type": "code",
        "colab": {
          "base_uri": "https://localhost:8080/",
          "height": 295
        },
        "outputId": "76456bc5-4653-48db-8f49-b5593576c880"
      },
      "source": [
        "plt.plot(avg_reward)\n",
        "plt.xlabel('Steps')\n",
        "plt.ylabel('Average Reward')\n",
        "plt.title('e-greedy Performance')\n",
        "plt.grid(True)\n",
        "plt.show()"
      ],
      "execution_count": 66,
      "outputs": [
        {
          "output_type": "display_data",
          "data": {
            "image/png": "[encoded data removed]",
            "text/plain": [
              "<Figure size 432x288 with 1 Axes>"
            ]
          },
          "metadata": {
            "tags": []
          }
        }
      ]
    },
    {
      "cell_type": "code",
      "metadata": {
        "id": "O8FIPTb8INsx",
        "colab_type": "code",
        "colab": {}
      },
      "source": [
        ""
      ],
      "execution_count": 0,
      "outputs": []
    }
  ]
}